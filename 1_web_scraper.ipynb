{
 "cells": [
  {
   "cell_type": "markdown",
   "id": "15a1e57c-5aae-4eaa-92f9-7c7d78620e13",
   "metadata": {},
   "source": [
    "# Web Scraping: \n",
    "### Batting and Pitching Stats from 1970 - 2022"
   ]
  },
  {
   "cell_type": "markdown",
   "id": "cb3f22eb-2342-43f4-bc98-5574f83714f8",
   "metadata": {},
   "source": [
    "In this Notebook I will be building a webscraper and collecting data for the dataset. After data collection the data will be converted to CSV files to be cleaned and manipulated in a different notebook."
   ]
  },
  {
   "cell_type": "code",
   "execution_count": 15,
   "id": "3c1a8138-e7ad-4eef-9d76-2afd105b9ab6",
   "metadata": {},
   "outputs": [],
   "source": [
    "#####\n",
    "# IMPORTS\n",
    "#####\n",
    "\n",
    "import os\n",
    "import time\n",
    "import shutil\n",
    "import requests\n",
    "from bs4 import BeautifulSoup\n",
    "from selenium import webdriver\n",
    "from selenium.webdriver.common.keys import Keys"
   ]
  },
  {
   "cell_type": "code",
   "execution_count": 12,
   "id": "b8f89845-368f-4d54-831e-697ad95df896",
   "metadata": {},
   "outputs": [],
   "source": [
    "#####\n",
    "# SETTING THE URLS TO WEB SCRAPE BATTING AND PITCHING STATS FROM\n",
    "#####\n",
    "\n",
    "bat_url = 'https://www.baseball-reference.com/leagues/majors/{}-standard-batting.shtml'\n",
    "pitch_url = 'https://www.baseball-reference.com/leagues/majors/{}-standard-pitching.shtml'"
   ]
  },
  {
   "cell_type": "code",
   "execution_count": 13,
   "id": "43015d85-4d1b-4f64-bd33-799d5a8fd2f5",
   "metadata": {},
   "outputs": [],
   "source": [
    "#####\n",
    "# DEFINING THE YEARS TO BE USED FOR DATASET CREATION\n",
    "#####\n",
    "\n",
    "years = list(range(1970, 2023))"
   ]
  },
  {
   "cell_type": "code",
   "execution_count": 14,
   "id": "f308b617-1ba4-4c6c-8867-32750c08c6c0",
   "metadata": {},
   "outputs": [
    {
     "name": "stderr",
     "output_type": "stream",
     "text": [
      "/var/folders/kg/w2l216k54rd_wqnprdtrj55w0000gn/T/ipykernel_34608/2168109223.py:5: DeprecationWarning: executable_path has been deprecated, please pass in a Service object\n",
      "  driver = webdriver.Chrome(\n"
     ]
    }
   ],
   "source": [
    "#####\n",
    "# CREATING DRIVER FOR WEB SCRAPER\n",
    "#####\n",
    "\n",
    "driver = webdriver.Chrome(\n",
    "    executable_path=\"/Users/DJ/bin/chromedriver\"\n",
    "    )"
   ]
  },
  {
   "cell_type": "code",
   "execution_count": 5,
   "id": "dcd83297-ab78-485c-97d9-60b063302b04",
   "metadata": {},
   "outputs": [],
   "source": [
    "#####\n",
    "# COLLECTING HTML WEBPAGES FOR BATTERS\n",
    "#####\n",
    "\n",
    "for year in years:\n",
    "    url = bat_url.format(year)\n",
    "    \n",
    "    driver.get(url)\n",
    "    driver.execute_script(\"window.scrollTo(1,10000)\")\n",
    "    time.sleep(2)\n",
    "    \n",
    "    with open(\"bat_html/{}.html\".format(year), \"w+\") as f:\n",
    "        f.write(driver.page_source)"
   ]
  },
  {
   "cell_type": "code",
   "execution_count": 6,
   "id": "d41f16ab-3929-47e9-bec8-98ab50e9f889",
   "metadata": {},
   "outputs": [],
   "source": [
    "#####\n",
    "# COLLECTING HTML WEBPAGES FOR PITCHERS\n",
    "#####\n",
    "\n",
    "for year in years:\n",
    "    url = pitch_url.format(year)\n",
    "    \n",
    "    driver.get(url)\n",
    "    driver.execute_script(\"window.scrollTo(1,10000)\")\n",
    "    time.sleep(2)\n",
    "    \n",
    "    with open(\"pitch_html/{}.html\".format(year), \"w+\") as f:\n",
    "        f.write(driver.page_source)"
   ]
  },
  {
   "cell_type": "code",
   "execution_count": 16,
   "id": "a8d9dae9-3ca5-4886-8044-fd0e68de0600",
   "metadata": {},
   "outputs": [],
   "source": [
    "#####\n",
    "# - CONVERTING THE BATTING DATA IN THE HTML INTO A DATAFRAME & CLEANING UP THE TABLE A BIT\n",
    "#####\n",
    "\n",
    "bat_df = []\n",
    "for year in years:\n",
    "    with open(\"bat_html/{}.html\".format(year)) as f:\n",
    "        page = f.read()\n",
    "    \n",
    "    soup = BeautifulSoup(page, 'html.parser')\n",
    "    bat_table = soup.find_all(id=\"div_players_standard_batting\")[0]\n",
    "    batter_df = pd.read_html(str(bat_table))[0]\n",
    "    batter_df[\"Year\"] = year\n",
    "    bat_df.append(batter_df)\n",
    "    batters = pd.concat(bat_df)\n",
    "    batting = batters.drop_duplicates(\n",
    "        subset = ['Name', 'Year'],\n",
    "        keep = 'first').reset_index(drop = True)\n",
    "    batting.to_csv('scraped_batting.csv')"
   ]
  },
  {
   "cell_type": "code",
   "execution_count": 17,
   "id": "c18dd33e-0212-44f5-a7b3-605045af5ac2",
   "metadata": {},
   "outputs": [],
   "source": [
    "#####\n",
    "# - CONVERTING THE PITCHING DATA IN THE HTML INTO A DATAFRAME & CLEANING UP THE TABLE A BIT\n",
    "#####\n",
    "\n",
    "pitch_df = []\n",
    "for year in years:\n",
    "    with open(\"pitch_html/{}.html\".format(year)) as f:\n",
    "        page = f.read()\n",
    "    \n",
    "    soup = BeautifulSoup(page, 'html.parser')\n",
    "    pitch_table = soup.find_all(id=\"div_players_standard_pitching\")[0]\n",
    "    pitcher_df = pd.read_html(str(pitch_table))[0]\n",
    "    pitcher_df[\"Year\"] = year\n",
    "    pitch_df.append(pitcher_df)\n",
    "    pitchers = pd.concat(pitch_df)\n",
    "    pitching = pitchers.drop_duplicates(\n",
    "        subset = ['Name', 'Year'],\n",
    "        keep = 'first').reset_index(drop = True)\n",
    "    pitching.to_csv('scraped_pitching.csv')"
   ]
  },
  {
   "cell_type": "code",
   "execution_count": null,
   "id": "68b868f9-510a-4a53-b328-7087179e20e2",
   "metadata": {},
   "outputs": [],
   "source": [
    "#####\n",
    "# - NOTES\n",
    "#####\n"
   ]
  }
 ],
 "metadata": {
  "kernelspec": {
   "display_name": "Python 3 (ipykernel)",
   "language": "python",
   "name": "python3"
  },
  "language_info": {
   "codemirror_mode": {
    "name": "ipython",
    "version": 3
   },
   "file_extension": ".py",
   "mimetype": "text/x-python",
   "name": "python",
   "nbconvert_exporter": "python",
   "pygments_lexer": "ipython3",
   "version": "3.9.12"
  }
 },
 "nbformat": 4,
 "nbformat_minor": 5
}
