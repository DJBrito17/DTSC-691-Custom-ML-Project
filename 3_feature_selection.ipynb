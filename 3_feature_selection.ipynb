{
 "cells": [
  {
   "cell_type": "markdown",
   "id": "aa4f8e31-8ec5-4121-ada0-4ed969319560",
   "metadata": {},
   "source": [
    "# Feature Selection"
   ]
  },
  {
   "cell_type": "markdown",
   "id": "32571add-a2fa-43ae-9106-209e30218ef2",
   "metadata": {},
   "source": [
    "***** FILL OUT LATER *****"
   ]
  },
  {
   "cell_type": "code",
   "execution_count": 1,
   "id": "2a3c16eb-1a57-4b5c-92bc-c2bc46365e96",
   "metadata": {},
   "outputs": [],
   "source": [
    "#####\n",
    "# - IMPORTS\n",
    "#####\n",
    "\n",
    "import pandas as pd\n",
    "from sklearn.linear_model import Ridge\n",
    "from sklearn.feature_selection import SequentialFeatureSelector\n",
    "from sklearn.model_selection import TimeSeriesSplit\n",
    "from sklearn.preprocessing import MinMaxScaler"
   ]
  },
  {
   "cell_type": "code",
   "execution_count": 2,
   "id": "85f973d7-61a9-4f8d-a6cd-88692a383603",
   "metadata": {},
   "outputs": [],
   "source": [
    "#####\n",
    "# - LOADING DATASETS & SETTING IT SO THAT ALL COLUMNS SHOW WHEN VIEWING THE DATASETS\n",
    "#####\n",
    "\n",
    "batting = pd.read_csv('clean_batting.csv',index_col=0)\n",
    "pitching = pd.read_csv('clean_pitching.csv',index_col=0)\n",
    "\n",
    "pd.set_option('display.max_columns', None)"
   ]
  },
  {
   "cell_type": "code",
   "execution_count": null,
   "id": "9798124d-2627-41b0-9bd9-abdef03c6acb",
   "metadata": {},
   "outputs": [],
   "source": [
    "batting"
   ]
  },
  {
   "cell_type": "code",
   "execution_count": null,
   "id": "df19d414-2e87-4102-b04f-d494a11d8d28",
   "metadata": {},
   "outputs": [],
   "source": [
    "pitching"
   ]
  },
  {
   "cell_type": "code",
   "execution_count": 3,
   "id": "1d418ecd-5776-464f-842d-7c8778a9b52d",
   "metadata": {},
   "outputs": [],
   "source": [
    "#####\n",
    "# - SETTING UP THE FEATURE SELECTORS\n",
    "#####\n",
    "\n",
    "rr = Ridge(alpha=1)\n",
    "\n",
    "split = TimeSeriesSplit(n_splits=3)\n",
    "\n",
    "bat_sfs_ba = SequentialFeatureSelector(rr, n_features_to_select=20, cv=split, n_jobs= -1) \n",
    "bat_sfs_rbi = SequentialFeatureSelector(rr, n_features_to_select=20, cv=split, n_jobs= -1) \n",
    "bat_sfs_hr = SequentialFeatureSelector(rr, n_features_to_select=20, cv=split, n_jobs= -1) \n",
    "bat_sfs_bb = SequentialFeatureSelector(rr, n_features_to_select=20, cv=split, n_jobs= -1) \n",
    "bat_sfs_so = SequentialFeatureSelector(rr, n_features_to_select=20, cv=split, n_jobs= -1) \n",
    "\n",
    "pitch_sfs_era = SequentialFeatureSelector(rr, n_features_to_select=25, cv=split, n_jobs= -1) \n",
    "pitch_sfs_so = SequentialFeatureSelector(rr, n_features_to_select=25, cv=split, n_jobs= -1) \n",
    "pitch_sfs_whip = SequentialFeatureSelector(rr, n_features_to_select=25, cv=split, n_jobs= -1) \n",
    "pitch_sfs_bb = SequentialFeatureSelector(rr, n_features_to_select=25, cv=split, n_jobs= -1) \n",
    "pitch_sfs_w = SequentialFeatureSelector(rr, n_features_to_select=25, cv=split, n_jobs= -1) \n",
    "pitch_sfs_sv = SequentialFeatureSelector(rr, n_features_to_select=25, cv=split, n_jobs= -1) "
   ]
  },
  {
   "cell_type": "code",
   "execution_count": 4,
   "id": "a6ccecc8-c531-4cc4-8a9c-7145e04f9dce",
   "metadata": {},
   "outputs": [],
   "source": [
    "#####\n",
    "# - REMOVING STRING COLUMNS ALONG WITH COLUMNS TO COMPARE PREDICTIONS TO\n",
    "#####\n",
    "\n",
    "remove_bat_cols = ['Name', 'Tm', 'Year', 'Nxt_BA', 'Nxt_RBI', 'Nxt_HR', 'Nxt_BB', 'Nxt_SO']\n",
    "remove_pitch_cols = ['Name', 'Tm', 'Year', 'Nxt_ERA', 'Nxt_SO', 'Nxt_WHIP', 'Nxt_BB', 'Nxt_W', 'Nxt_SV']\n",
    "\n",
    "bat_cols = batting.columns[~batting.columns.isin(remove_bat_cols)]\n",
    "pitch_cols = pitching.columns[~pitching.columns.isin(remove_pitch_cols)]"
   ]
  },
  {
   "cell_type": "code",
   "execution_count": 5,
   "id": "5ca7531d-8f97-492d-9314-cd4e465dfbde",
   "metadata": {},
   "outputs": [],
   "source": [
    "#####\n",
    "# - SCALING THE DATA\n",
    "#####\n",
    "\n",
    "scaler = MinMaxScaler()\n",
    "batting.loc[:, bat_cols] = scaler.fit_transform(batting[bat_cols])\n",
    "pitching.loc[:, pitch_cols] = scaler.fit_transform(pitching[pitch_cols])"
   ]
  },
  {
   "cell_type": "code",
   "execution_count": null,
   "id": "fdefc12e-97a8-4866-a72f-d5b013ad2c38",
   "metadata": {},
   "outputs": [],
   "source": [
    "batting"
   ]
  },
  {
   "cell_type": "code",
   "execution_count": null,
   "id": "c9105ad9-9c4c-4ef8-a0f5-4f86992d9a40",
   "metadata": {},
   "outputs": [],
   "source": [
    "pitching"
   ]
  },
  {
   "cell_type": "code",
   "execution_count": 6,
   "id": "06c442e3-dc28-4588-ae1e-c25d1b7f43a4",
   "metadata": {},
   "outputs": [
    {
     "data": {
      "text/plain": [
       "SequentialFeatureSelector(cv=TimeSeriesSplit(gap=0, max_train_size=None, n_splits=3, test_size=None),\n",
       "                          estimator=Ridge(alpha=1), n_features_to_select=25,\n",
       "                          n_jobs=-1)"
      ]
     },
     "execution_count": 6,
     "metadata": {},
     "output_type": "execute_result"
    }
   ],
   "source": [
    "#####\n",
    "# - FITTING EACH OF THE PREDICTORS\n",
    "#####\n",
    "\n",
    "bat_sfs_ba.fit(batting[bat_cols], batting['Nxt_BA'])\n",
    "bat_sfs_rbi.fit(batting[bat_cols], batting['Nxt_RBI'])\n",
    "bat_sfs_hr.fit(batting[bat_cols], batting['Nxt_HR'])\n",
    "bat_sfs_bb.fit(batting[bat_cols], batting['Nxt_BB'])\n",
    "bat_sfs_so.fit(batting[bat_cols], batting['Nxt_SO'])\n",
    "\n",
    "pitch_sfs_era.fit(pitching[pitch_cols], pitching['Nxt_ERA'])\n",
    "pitch_sfs_so.fit(pitching[pitch_cols], pitching['Nxt_SO'])\n",
    "pitch_sfs_whip.fit(pitching[pitch_cols], pitching['Nxt_WHIP'])\n",
    "pitch_sfs_bb.fit(pitching[pitch_cols], pitching['Nxt_BB'])\n",
    "pitch_sfs_w.fit(pitching[pitch_cols], pitching['Nxt_W'])\n",
    "pitch_sfs_sv.fit(pitching[pitch_cols], pitching['Nxt_SV'])"
   ]
  },
  {
   "cell_type": "code",
   "execution_count": 13,
   "id": "ec41bbf1-1505-4869-8dcc-0eea06d181ef",
   "metadata": {},
   "outputs": [],
   "source": [
    "#####\n",
    "# - SETTING UP LIST OF PREDICTORS FOR EACH FEATURE\n",
    "#####\n",
    "\n",
    "bat_ba_preds = list(bat_cols[bat_sfs_ba.get_support()])\n",
    "bat_rbi_preds= list(bat_cols[bat_sfs_rbi.get_support()])\n",
    "bat_hr_preds = list(bat_cols[bat_sfs_hr.get_support()])\n",
    "bat_bb_preds = list(bat_cols[bat_sfs_bb.get_support()])\n",
    "bat_so_preds = list(bat_cols[bat_sfs_so.get_support()])\n",
    "\n",
    "pitch_era_preds = list(pitch_cols[pitch_sfs_era.get_support()])\n",
    "pitch_so_preds = list(pitch_cols[pitch_sfs_so.get_support()])\n",
    "pitch_whip_preds = list(pitch_cols[pitch_sfs_whip.get_support()])\n",
    "pitch_bb_preds = list(pitch_cols[pitch_sfs_bb.get_support()])\n",
    "pitch_w_preds = list(pitch_cols[pitch_sfs_w.get_support()])\n",
    "pitch_sv_preds = list(pitch_cols[pitch_sfs_sv.get_support()])"
   ]
  },
  {
   "cell_type": "code",
   "execution_count": 22,
   "id": "9b0c4450-c344-4cdf-9fcf-75ee2ebcaff2",
   "metadata": {},
   "outputs": [
    {
     "data": {
      "text/plain": [
       "['Age',\n",
       " 'G',\n",
       " 'PA',\n",
       " 'AB',\n",
       " 'R',\n",
       " 'H',\n",
       " '2B',\n",
       " '3B',\n",
       " 'HR',\n",
       " 'RBI',\n",
       " 'CS',\n",
       " 'BB',\n",
       " 'SO',\n",
       " 'OBP',\n",
       " 'OPS',\n",
       " 'TB',\n",
       " 'GDP',\n",
       " 'SH',\n",
       " 'SF',\n",
       " 'IBB']"
      ]
     },
     "execution_count": 22,
     "metadata": {},
     "output_type": "execute_result"
    }
   ],
   "source": [
    "bat_ba_preds"
   ]
  },
  {
   "cell_type": "code",
   "execution_count": 9,
   "id": "2702b2ca-e6f7-4c40-82ef-67b9b5d9e426",
   "metadata": {},
   "outputs": [
    {
     "data": {
      "text/plain": [
       "['Age',\n",
       " 'G',\n",
       " 'PA',\n",
       " 'AB',\n",
       " 'H',\n",
       " '2B',\n",
       " '3B',\n",
       " 'RBI',\n",
       " 'SO',\n",
       " 'BA',\n",
       " 'OBP',\n",
       " 'SLG',\n",
       " 'OPS',\n",
       " 'OPS+',\n",
       " 'TB',\n",
       " 'GDP',\n",
       " 'HBP',\n",
       " 'SH',\n",
       " 'SF',\n",
       " 'IBB']"
      ]
     },
     "execution_count": 9,
     "metadata": {},
     "output_type": "execute_result"
    }
   ],
   "source": [
    "bat_rbi_preds"
   ]
  },
  {
   "cell_type": "code",
   "execution_count": 10,
   "id": "a4c70dc0-dcf6-44b1-8175-5dd8834db065",
   "metadata": {},
   "outputs": [
    {
     "data": {
      "text/plain": [
       "['Age',\n",
       " 'G',\n",
       " 'PA',\n",
       " 'AB',\n",
       " 'R',\n",
       " 'H',\n",
       " '2B',\n",
       " '3B',\n",
       " 'HR',\n",
       " 'RBI',\n",
       " 'BB',\n",
       " 'SO',\n",
       " 'BA',\n",
       " 'OBP',\n",
       " 'SLG',\n",
       " 'OPS',\n",
       " 'OPS+',\n",
       " 'GDP',\n",
       " 'SH',\n",
       " 'IBB']"
      ]
     },
     "execution_count": 10,
     "metadata": {},
     "output_type": "execute_result"
    }
   ],
   "source": [
    "bat_hr_preds"
   ]
  },
  {
   "cell_type": "code",
   "execution_count": 11,
   "id": "d4f714a2-39ae-47c6-ae78-53ad69cd140d",
   "metadata": {},
   "outputs": [
    {
     "data": {
      "text/plain": [
       "['Age',\n",
       " 'G',\n",
       " 'AB',\n",
       " 'R',\n",
       " 'H',\n",
       " '2B',\n",
       " '3B',\n",
       " 'RBI',\n",
       " 'SB',\n",
       " 'BB',\n",
       " 'SO',\n",
       " 'BA',\n",
       " 'OBP',\n",
       " 'SLG',\n",
       " 'OPS',\n",
       " 'OPS+',\n",
       " 'HBP',\n",
       " 'SH',\n",
       " 'SF',\n",
       " 'IBB']"
      ]
     },
     "execution_count": 11,
     "metadata": {},
     "output_type": "execute_result"
    }
   ],
   "source": [
    "bat_bb_preds"
   ]
  },
  {
   "cell_type": "code",
   "execution_count": 12,
   "id": "c1dcdb8e-fdae-4ff3-a717-3f9cef18e57f",
   "metadata": {},
   "outputs": [
    {
     "data": {
      "text/plain": [
       "['Age',\n",
       " 'G',\n",
       " 'PA',\n",
       " 'AB',\n",
       " 'R',\n",
       " 'H',\n",
       " '2B',\n",
       " '3B',\n",
       " 'RBI',\n",
       " 'SB',\n",
       " 'SO',\n",
       " 'BA',\n",
       " 'OBP',\n",
       " 'SLG',\n",
       " 'OPS',\n",
       " 'OPS+',\n",
       " 'GDP',\n",
       " 'SH',\n",
       " 'SF',\n",
       " 'IBB']"
      ]
     },
     "execution_count": 12,
     "metadata": {},
     "output_type": "execute_result"
    }
   ],
   "source": [
    "bat_so_preds"
   ]
  },
  {
   "cell_type": "code",
   "execution_count": 14,
   "id": "14bc0dfe-0692-447d-a33d-3d472489e6d3",
   "metadata": {},
   "outputs": [
    {
     "data": {
      "text/plain": [
       "['Age',\n",
       " 'W',\n",
       " 'L',\n",
       " 'GS',\n",
       " 'GF',\n",
       " 'CG',\n",
       " 'SHO',\n",
       " 'SV',\n",
       " 'IP',\n",
       " 'H',\n",
       " 'R',\n",
       " 'ER',\n",
       " 'HR',\n",
       " 'BB',\n",
       " 'IBB',\n",
       " 'SO',\n",
       " 'HBP',\n",
       " 'BK',\n",
       " 'WP',\n",
       " 'BF',\n",
       " 'FIP',\n",
       " 'WHIP',\n",
       " 'HR9',\n",
       " 'BB9',\n",
       " 'SO9']"
      ]
     },
     "execution_count": 14,
     "metadata": {},
     "output_type": "execute_result"
    }
   ],
   "source": [
    "pitch_era_preds"
   ]
  },
  {
   "cell_type": "code",
   "execution_count": 15,
   "id": "260caa17-6f65-42a3-b1aa-bd442459e724",
   "metadata": {},
   "outputs": [
    {
     "data": {
      "text/plain": [
       "['Age',\n",
       " 'W',\n",
       " 'L',\n",
       " 'W-L%',\n",
       " 'ERA',\n",
       " 'G',\n",
       " 'GS',\n",
       " 'GF',\n",
       " 'CG',\n",
       " 'SHO',\n",
       " 'SV',\n",
       " 'IP',\n",
       " 'HR',\n",
       " 'SO',\n",
       " 'HBP',\n",
       " 'BK',\n",
       " 'WP',\n",
       " 'BF',\n",
       " 'ERA+',\n",
       " 'FIP',\n",
       " 'WHIP',\n",
       " 'HR9',\n",
       " 'BB9',\n",
       " 'SO9',\n",
       " 'SO/W']"
      ]
     },
     "execution_count": 15,
     "metadata": {},
     "output_type": "execute_result"
    }
   ],
   "source": [
    "pitch_so_preds"
   ]
  },
  {
   "cell_type": "code",
   "execution_count": 16,
   "id": "62bbd0ca-d3e3-4b03-9eb0-6348da9a7efb",
   "metadata": {},
   "outputs": [
    {
     "data": {
      "text/plain": [
       "['Age',\n",
       " 'W',\n",
       " 'L',\n",
       " 'W-L%',\n",
       " 'G',\n",
       " 'CG',\n",
       " 'SHO',\n",
       " 'SV',\n",
       " 'IP',\n",
       " 'H',\n",
       " 'R',\n",
       " 'ER',\n",
       " 'HR',\n",
       " 'BB',\n",
       " 'IBB',\n",
       " 'SO',\n",
       " 'HBP',\n",
       " 'BK',\n",
       " 'WP',\n",
       " 'BF',\n",
       " 'ERA+',\n",
       " 'HR9',\n",
       " 'BB9',\n",
       " 'SO9',\n",
       " 'SO/W']"
      ]
     },
     "execution_count": 16,
     "metadata": {},
     "output_type": "execute_result"
    }
   ],
   "source": [
    "pitch_whip_preds"
   ]
  },
  {
   "cell_type": "code",
   "execution_count": 18,
   "id": "fe3953ae-9e99-4416-97df-92713bcf8047",
   "metadata": {},
   "outputs": [
    {
     "data": {
      "text/plain": [
       "['Age',\n",
       " 'W',\n",
       " 'W-L%',\n",
       " 'ERA',\n",
       " 'G',\n",
       " 'GF',\n",
       " 'CG',\n",
       " 'SHO',\n",
       " 'SV',\n",
       " 'IP',\n",
       " 'R',\n",
       " 'ER',\n",
       " 'HR',\n",
       " 'BB',\n",
       " 'IBB',\n",
       " 'SO',\n",
       " 'HBP',\n",
       " 'WP',\n",
       " 'ERA+',\n",
       " 'FIP',\n",
       " 'WHIP',\n",
       " 'HR9',\n",
       " 'BB9',\n",
       " 'SO9',\n",
       " 'SO/W']"
      ]
     },
     "execution_count": 18,
     "metadata": {},
     "output_type": "execute_result"
    }
   ],
   "source": [
    "pitch_bb_preds"
   ]
  },
  {
   "cell_type": "code",
   "execution_count": 19,
   "id": "ec9f8901-9e30-4a5d-8355-c8edc83ccdc2",
   "metadata": {},
   "outputs": [
    {
     "data": {
      "text/plain": [
       "['Age',\n",
       " 'W',\n",
       " 'L',\n",
       " 'W-L%',\n",
       " 'ERA',\n",
       " 'G',\n",
       " 'GS',\n",
       " 'GF',\n",
       " 'CG',\n",
       " 'SV',\n",
       " 'IP',\n",
       " 'R',\n",
       " 'ER',\n",
       " 'HR',\n",
       " 'BB',\n",
       " 'SO',\n",
       " 'BK',\n",
       " 'WP',\n",
       " 'BF',\n",
       " 'ERA+',\n",
       " 'FIP',\n",
       " 'HR9',\n",
       " 'BB9',\n",
       " 'SO9',\n",
       " 'SO/W']"
      ]
     },
     "execution_count": 19,
     "metadata": {},
     "output_type": "execute_result"
    }
   ],
   "source": [
    "pitch_w_preds"
   ]
  },
  {
   "cell_type": "code",
   "execution_count": 20,
   "id": "9eea3000-25b3-4a48-843a-7a2ca6ba97a2",
   "metadata": {},
   "outputs": [
    {
     "data": {
      "text/plain": [
       "['Age',\n",
       " 'L',\n",
       " 'W-L%',\n",
       " 'ERA',\n",
       " 'GF',\n",
       " 'CG',\n",
       " 'SHO',\n",
       " 'SV',\n",
       " 'IP',\n",
       " 'H',\n",
       " 'R',\n",
       " 'ER',\n",
       " 'HR',\n",
       " 'SO',\n",
       " 'HBP',\n",
       " 'BK',\n",
       " 'BF',\n",
       " 'ERA+',\n",
       " 'FIP',\n",
       " 'WHIP',\n",
       " 'H9',\n",
       " 'HR9',\n",
       " 'BB9',\n",
       " 'SO9',\n",
       " 'SO/W']"
      ]
     },
     "execution_count": 20,
     "metadata": {},
     "output_type": "execute_result"
    }
   ],
   "source": [
    "pitch_sv_preds"
   ]
  },
  {
   "cell_type": "markdown",
   "id": "9e30ec14-8274-436d-8c06-f9dee7736412",
   "metadata": {},
   "source": [
    "# WORK IN PROGRESS\n",
    "\n",
    "## Figuring out how to code the RNN model\n",
    "\n",
    "### Will need to do this in a multivariable way. Will need to figure out\n",
    "\n",
    "Re-type everything that is copied over"
   ]
  },
  {
   "cell_type": "code",
   "execution_count": null,
   "id": "0b6790ee-5c98-48b3-aa53-3fdd72af5adb",
   "metadata": {},
   "outputs": [],
   "source": [
    "#Building the  Multivariable RNN and importing the keras library\n",
    "from keras.models import Sequential\n",
    "from keras.layers import Dense\n",
    "from keras.layers import LSTM\n",
    "from keras.layers import Dropout\n",
    "\n",
    "# In the EXAMPLE I FOUND IT USES REGRESSOR INSTEAD OF MODEL. BUT IN DATACAMP IT SHOWS MODEL"
   ]
  },
  {
   "cell_type": "code",
   "execution_count": null,
   "id": "274c6eda-ff08-48de-b85e-af3f3dcfd70a",
   "metadata": {},
   "outputs": [],
   "source": [
    "model = Sequential()"
   ]
  },
  {
   "cell_type": "code",
   "execution_count": null,
   "id": "655514d7-8fd4-44cb-9c64-dbf6e1566870",
   "metadata": {},
   "outputs": [],
   "source": []
  },
  {
   "cell_type": "code",
   "execution_count": null,
   "id": "e0c65896-d5fc-4be2-9b92-ccb6ed9aee6b",
   "metadata": {},
   "outputs": [],
   "source": []
  },
  {
   "cell_type": "code",
   "execution_count": null,
   "id": "28f64039-c8a6-4465-883d-165b643668f1",
   "metadata": {},
   "outputs": [],
   "source": [
    "## GIT HUB PROJECT\n",
    "\n",
    "#Adding a first LSTM layer\n",
    "regressor.add(LSTM(units = 50, return_sequences = True, input_shape = (X.shape[1],14)))\n",
    "regressor.add(Dropout(0.2))\n",
    "\n",
    "#Adding a second LSTM layer and dropout regularisation\n",
    "regressor.add(LSTM(units = 50, return_sequences = True))\n",
    "regressor.add(Dropout(0.2))\n",
    "\n",
    "\n",
    "#Adding a thrid LSTM layer and dropout regularisation\n",
    "regressor.add(LSTM(units = 50, return_sequences = True))\n",
    "regressor.add(Dropout(0.2))\n",
    "\n",
    "\n",
    "#Adding a fourth LSTM layer and dropout regularisation\n",
    "regressor.add(LSTM(units = 50, return_sequences = False))\n",
    "regressor.add(Dropout(0.2))\n",
    "\n",
    "#adding the output layer\n",
    "regressor.add(Dense(units = 1))\n",
    "\n",
    "#Compiling the RNN\n",
    "regressor.compile(optimizer = 'adam', loss = 'mean_squared_error')\n",
    "\n",
    "#Fitting the RNN to the training set\n",
    "regressor.fit(X,y, epochs = 100, batch_size = 2) #this takes long"
   ]
  },
  {
   "cell_type": "code",
   "execution_count": null,
   "id": "2ab1d5cc-ed68-47a6-9a1b-2f9d9f18548a",
   "metadata": {},
   "outputs": [],
   "source": [
    "# DATACAMP - WOULD LIKE TO CHANGE LOSS TO MSE, LIKELY TO KEEP METRICS UNLESS FEEL DIFFERENTLY AFTER GOING FURTHER\n",
    "#            IN THE LESSONS ON DATACAMP\n",
    "model.compile(loss='binary_crossentropy', \n",
    "              optimizer='adam',\n",
    "              metrics=['accuracy'])"
   ]
  },
  {
   "cell_type": "code",
   "execution_count": null,
   "id": "35e69e6f-ae62-49a7-a5e9-937b1614f558",
   "metadata": {},
   "outputs": [],
   "source": [
    "# The summary shows the layers and the number of parameters \n",
    "# that will be trained\n",
    "model.summary()"
   ]
  },
  {
   "cell_type": "code",
   "execution_count": null,
   "id": "9c1c2a7a-aa80-4585-bb7d-4d4ba499a484",
   "metadata": {},
   "outputs": [],
   "source": []
  },
  {
   "cell_type": "code",
   "execution_count": null,
   "id": "233300ef-68e0-40a3-8e6d-6616bf460676",
   "metadata": {},
   "outputs": [],
   "source": []
  },
  {
   "cell_type": "code",
   "execution_count": null,
   "id": "eb9af95f-f3a1-412c-ab57-ba300783e277",
   "metadata": {},
   "outputs": [],
   "source": []
  },
  {
   "cell_type": "code",
   "execution_count": null,
   "id": "2bb52da3-c0bd-4a1c-8a6d-d70d7e478d18",
   "metadata": {},
   "outputs": [],
   "source": [
    "#####\n",
    "# - NOTES\n",
    "#####"
   ]
  },
  {
   "cell_type": "code",
   "execution_count": null,
   "id": "5044efcb-b5a5-46ad-9066-bdf1b353ea2f",
   "metadata": {},
   "outputs": [],
   "source": [
    "#####\n",
    "# - NOTES\n",
    "#####"
   ]
  },
  {
   "cell_type": "code",
   "execution_count": null,
   "id": "936da719-4172-4d26-b1d6-f918660ee461",
   "metadata": {},
   "outputs": [],
   "source": []
  },
  {
   "cell_type": "code",
   "execution_count": null,
   "id": "97eab1d2-2734-4667-b41d-eaa4f457331a",
   "metadata": {},
   "outputs": [],
   "source": []
  },
  {
   "cell_type": "code",
   "execution_count": null,
   "id": "0d97e2a9-b838-4b0a-baaf-c110cc340808",
   "metadata": {},
   "outputs": [],
   "source": []
  },
  {
   "cell_type": "code",
   "execution_count": null,
   "id": "e4024f31-6f1b-4cae-91c9-b1d5e60f275e",
   "metadata": {},
   "outputs": [],
   "source": []
  },
  {
   "cell_type": "code",
   "execution_count": null,
   "id": "0a18deee-f61d-4870-aa9a-71fc3c991e22",
   "metadata": {},
   "outputs": [],
   "source": []
  },
  {
   "cell_type": "code",
   "execution_count": null,
   "id": "9166dc5d-3913-44e0-b3a3-e6ce60f2a943",
   "metadata": {},
   "outputs": [],
   "source": []
  },
  {
   "cell_type": "code",
   "execution_count": null,
   "id": "9a65aa77-5bdd-4e55-a63e-2d041f86ba74",
   "metadata": {},
   "outputs": [],
   "source": []
  },
  {
   "cell_type": "code",
   "execution_count": null,
   "id": "92315f7f-9689-4371-b4b1-1ee0b6feacc1",
   "metadata": {},
   "outputs": [],
   "source": []
  },
  {
   "cell_type": "code",
   "execution_count": null,
   "id": "3af4f562-cd02-4183-8f35-1a6f9aeeb631",
   "metadata": {},
   "outputs": [],
   "source": []
  },
  {
   "cell_type": "code",
   "execution_count": null,
   "id": "37fe38d9-6689-497e-af4d-1ef738ea1a7e",
   "metadata": {},
   "outputs": [],
   "source": []
  }
 ],
 "metadata": {
  "kernelspec": {
   "display_name": "Python 3 (ipykernel)",
   "language": "python",
   "name": "python3"
  },
  "language_info": {
   "codemirror_mode": {
    "name": "ipython",
    "version": 3
   },
   "file_extension": ".py",
   "mimetype": "text/x-python",
   "name": "python",
   "nbconvert_exporter": "python",
   "pygments_lexer": "ipython3",
   "version": "3.9.12"
  }
 },
 "nbformat": 4,
 "nbformat_minor": 5
}
