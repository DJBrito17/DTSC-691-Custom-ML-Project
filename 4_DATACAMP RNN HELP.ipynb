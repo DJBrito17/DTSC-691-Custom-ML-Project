{
 "cells": [
  {
   "cell_type": "markdown",
   "id": "3f96087d-7138-4a0e-b08a-889689935ab1",
   "metadata": {},
   "source": [
    "# DATA CAMP RNN CODE SAMPLES FROM LESSONS"
   ]
  },
  {
   "cell_type": "code",
   "execution_count": null,
   "id": "30542927-89e4-4248-8e95-58bfe422a246",
   "metadata": {},
   "outputs": [],
   "source": [
    "## - FIRST FULL MODEL CREATED AT END OF SECTION 1 OF 4\n",
    "\n",
    "# Build model\n",
    "model = Sequential()\n",
    "model.add(SimpleRNN(units=128, input_shape=(None, 1)))\n",
    "model.add(Dense(1, activation='sigmoid'))\n",
    "model.compile(loss='binary_crossentropy', \n",
    "              optimizer='adam',\n",
    "              metrics=['accuracy'])\n",
    "\n",
    "# Load pre-trained weights\n",
    "model.load_weights('model_weights.h5')\n",
    "\n",
    "# Method '.evaluate()' shows the loss and accuracy\n",
    "loss, acc = model.evaluate(x_test, y_test, verbose=0)\n",
    "print(\"Loss: {0} \\nAccuracy: {1}\".format(loss, acc))\n",
    "\n",
    "## - ACCURACY IS LOW BUT WILL LEARN HOW TO ADJUST AND CORRECT ACCURACY IN FUTURE LESSONS\n",
    "<script.py> output:\n",
    "    Loss: 0.6991181373596191 \n",
    "    Accuracy: 0.4950000047683716"
   ]
  },
  {
   "cell_type": "code",
   "execution_count": null,
   "id": "7374b6a2-e771-406f-b86b-6657bc63a230",
   "metadata": {},
   "outputs": [],
   "source": [
    "# See Mean Square Error for train and test data\n",
    "train_mse = model.evaluate(X_train, y_train, verbose=0)\n",
    "test_mse = model.evaluate(X_test, y_test, verbose=0)\n",
    "\n",
    "# Print the values of MSE\n",
    "print('Train: %.3f, Test: %.3f' % (train_mse, test_mse))"
   ]
  },
  {
   "cell_type": "code",
   "execution_count": null,
   "id": "6618484f-3222-49ea-bcec-b5230a59302d",
   "metadata": {},
   "outputs": [],
   "source": []
  },
  {
   "cell_type": "code",
   "execution_count": null,
   "id": "3b1ed3a1-cc4a-4619-bb14-627a70c03341",
   "metadata": {},
   "outputs": [],
   "source": []
  },
  {
   "cell_type": "code",
   "execution_count": null,
   "id": "fd0c0bf6-2d5f-4dc1-9884-5ee56d2c733d",
   "metadata": {},
   "outputs": [],
   "source": []
  },
  {
   "cell_type": "code",
   "execution_count": null,
   "id": "583e5779-d3f1-4ab4-b478-6f7ab6a8a226",
   "metadata": {},
   "outputs": [],
   "source": []
  },
  {
   "cell_type": "code",
   "execution_count": null,
   "id": "3c8d92a1-74a8-4f1c-9611-8d64423364d3",
   "metadata": {},
   "outputs": [],
   "source": []
  },
  {
   "cell_type": "code",
   "execution_count": null,
   "id": "69307657-dfcf-4deb-b190-5d2cbc8abc87",
   "metadata": {},
   "outputs": [],
   "source": []
  },
  {
   "cell_type": "code",
   "execution_count": null,
   "id": "235c2694-1712-4546-818b-9113f83cf23a",
   "metadata": {},
   "outputs": [],
   "source": []
  },
  {
   "cell_type": "code",
   "execution_count": null,
   "id": "9605ace8-8775-4d75-b8ca-94161426914d",
   "metadata": {},
   "outputs": [],
   "source": []
  }
 ],
 "metadata": {
  "kernelspec": {
   "display_name": "Python 3 (ipykernel)",
   "language": "python",
   "name": "python3"
  },
  "language_info": {
   "codemirror_mode": {
    "name": "ipython",
    "version": 3
   },
   "file_extension": ".py",
   "mimetype": "text/x-python",
   "name": "python",
   "nbconvert_exporter": "python",
   "pygments_lexer": "ipython3",
   "version": "3.9.12"
  }
 },
 "nbformat": 4,
 "nbformat_minor": 5
}
