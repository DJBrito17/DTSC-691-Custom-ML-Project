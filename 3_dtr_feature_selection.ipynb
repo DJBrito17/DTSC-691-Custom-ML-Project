{
 "cells": [
  {
   "cell_type": "markdown",
   "id": "aa4f8e31-8ec5-4121-ada0-4ed969319560",
   "metadata": {},
   "source": [
    "# Feature Selection"
   ]
  },
  {
   "cell_type": "markdown",
   "id": "32571add-a2fa-43ae-9106-209e30218ef2",
   "metadata": {},
   "source": [
    "***** FILL OUT LATER *****"
   ]
  },
  {
   "cell_type": "code",
   "execution_count": 1,
   "id": "2a3c16eb-1a57-4b5c-92bc-c2bc46365e96",
   "metadata": {},
   "outputs": [],
   "source": [
    "#####\n",
    "# - IMPORTS\n",
    "#####\n",
    "\n",
    "import pandas as pd\n",
    "from sklearn.linear_model import Ridge\n",
    "from sklearn.feature_selection import SequentialFeatureSelector\n",
    "from sklearn.model_selection import TimeSeriesSplit\n",
    "from sklearn.preprocessing import MinMaxScaler"
   ]
  },
  {
   "cell_type": "code",
   "execution_count": 2,
   "id": "85f973d7-61a9-4f8d-a6cd-88692a383603",
   "metadata": {},
   "outputs": [],
   "source": [
    "#####\n",
    "# - LOADING DATASETS & SETTING IT SO THAT ALL COLUMNS SHOW WHEN VIEWING THE DATASETS\n",
    "#####\n",
    "\n",
    "batting = pd.read_csv('clean_batting.csv',index_col=0)\n",
    "pitching = pd.read_csv('clean_pitching.csv',index_col=0)\n",
    "\n",
    "pd.set_option('display.max_columns', None)"
   ]
  },
  {
   "cell_type": "code",
   "execution_count": null,
   "id": "9798124d-2627-41b0-9bd9-abdef03c6acb",
   "metadata": {},
   "outputs": [],
   "source": [
    "batting"
   ]
  },
  {
   "cell_type": "code",
   "execution_count": null,
   "id": "df19d414-2e87-4102-b04f-d494a11d8d28",
   "metadata": {},
   "outputs": [],
   "source": [
    "pitching"
   ]
  },
  {
   "cell_type": "code",
   "execution_count": 3,
   "id": "1d418ecd-5776-464f-842d-7c8778a9b52d",
   "metadata": {},
   "outputs": [],
   "source": [
    "#####\n",
    "# - SETTING UP THE FEATURE SELECTORS\n",
    "#####\n",
    "\n",
    "rr = Ridge(alpha=1)\n",
    "\n",
    "split = TimeSeriesSplit(n_splits=3)\n",
    "\n",
    "bat_sfs_ba = SequentialFeatureSelector(rr, n_features_to_select=20, cv=split, n_jobs= -1) \n",
    "bat_sfs_rbi = SequentialFeatureSelector(rr, n_features_to_select=20, cv=split, n_jobs= -1) \n",
    "bat_sfs_hr = SequentialFeatureSelector(rr, n_features_to_select=20, cv=split, n_jobs= -1) \n",
    "bat_sfs_bb = SequentialFeatureSelector(rr, n_features_to_select=20, cv=split, n_jobs= -1) \n",
    "bat_sfs_so = SequentialFeatureSelector(rr, n_features_to_select=20, cv=split, n_jobs= -1) \n",
    "\n",
    "pitch_sfs_era = SequentialFeatureSelector(rr, n_features_to_select=25, cv=split, n_jobs= -1) \n",
    "pitch_sfs_so = SequentialFeatureSelector(rr, n_features_to_select=25, cv=split, n_jobs= -1) \n",
    "pitch_sfs_whip = SequentialFeatureSelector(rr, n_features_to_select=25, cv=split, n_jobs= -1) \n",
    "pitch_sfs_bb = SequentialFeatureSelector(rr, n_features_to_select=25, cv=split, n_jobs= -1) \n",
    "pitch_sfs_w = SequentialFeatureSelector(rr, n_features_to_select=25, cv=split, n_jobs= -1) \n",
    "pitch_sfs_sv = SequentialFeatureSelector(rr, n_features_to_select=25, cv=split, n_jobs= -1) "
   ]
  },
  {
   "cell_type": "code",
   "execution_count": 4,
   "id": "a6ccecc8-c531-4cc4-8a9c-7145e04f9dce",
   "metadata": {},
   "outputs": [],
   "source": [
    "#####\n",
    "# - REMOVING STRING COLUMNS ALONG WITH COLUMNS TO COMPARE PREDICTIONS TO\n",
    "#####\n",
    "\n",
    "remove_bat_cols = ['Name', 'Tm', 'Year', 'Nxt_BA', 'Nxt_RBI', 'Nxt_HR', 'Nxt_BB', 'Nxt_SO']\n",
    "remove_pitch_cols = ['Name', 'Tm', 'Year', 'Nxt_ERA', 'Nxt_SO', 'Nxt_WHIP', 'Nxt_BB', 'Nxt_W', 'Nxt_SV']\n",
    "\n",
    "bat_cols = batting.columns[~batting.columns.isin(remove_bat_cols)]\n",
    "pitch_cols = pitching.columns[~pitching.columns.isin(remove_pitch_cols)]"
   ]
  },
  {
   "cell_type": "code",
   "execution_count": 5,
   "id": "5ca7531d-8f97-492d-9314-cd4e465dfbde",
   "metadata": {},
   "outputs": [],
   "source": [
    "#####\n",
    "# - SCALING THE DATA\n",
    "#####\n",
    "\n",
    "scaler = MinMaxScaler()\n",
    "batting.loc[:, bat_cols] = scaler.fit_transform(batting[bat_cols])\n",
    "pitching.loc[:, pitch_cols] = scaler.fit_transform(pitching[pitch_cols])"
   ]
  },
  {
   "cell_type": "code",
   "execution_count": null,
   "id": "a9aaf43c-2508-48b8-83e4-63d2d12f08a6",
   "metadata": {},
   "outputs": [],
   "source": [
    "batting"
   ]
  },
  {
   "cell_type": "code",
   "execution_count": null,
   "id": "c9105ad9-9c4c-4ef8-a0f5-4f86992d9a40",
   "metadata": {},
   "outputs": [],
   "source": [
    "pitching"
   ]
  },
  {
   "cell_type": "code",
   "execution_count": 6,
   "id": "06c442e3-dc28-4588-ae1e-c25d1b7f43a4",
   "metadata": {},
   "outputs": [
    {
     "data": {
      "text/plain": [
       "SequentialFeatureSelector(cv=TimeSeriesSplit(gap=0, max_train_size=None, n_splits=3, test_size=None),\n",
       "                          estimator=Ridge(alpha=1), n_features_to_select=25,\n",
       "                          n_jobs=-1)"
      ]
     },
     "execution_count": 6,
     "metadata": {},
     "output_type": "execute_result"
    }
   ],
   "source": [
    "#####\n",
    "# - FITTING EACH OF THE PREDICTORS\n",
    "#####\n",
    "\n",
    "bat_sfs_ba.fit(batting[bat_cols], batting['Nxt_BA'])\n",
    "bat_sfs_rbi.fit(batting[bat_cols], batting['Nxt_RBI'])\n",
    "bat_sfs_hr.fit(batting[bat_cols], batting['Nxt_HR'])\n",
    "bat_sfs_bb.fit(batting[bat_cols], batting['Nxt_BB'])\n",
    "bat_sfs_so.fit(batting[bat_cols], batting['Nxt_SO'])\n",
    "\n",
    "pitch_sfs_era.fit(pitching[pitch_cols], pitching['Nxt_ERA'])\n",
    "pitch_sfs_so.fit(pitching[pitch_cols], pitching['Nxt_SO'])\n",
    "pitch_sfs_whip.fit(pitching[pitch_cols], pitching['Nxt_WHIP'])\n",
    "pitch_sfs_bb.fit(pitching[pitch_cols], pitching['Nxt_BB'])\n",
    "pitch_sfs_w.fit(pitching[pitch_cols], pitching['Nxt_W'])\n",
    "pitch_sfs_sv.fit(pitching[pitch_cols], pitching['Nxt_SV'])"
   ]
  },
  {
   "cell_type": "code",
   "execution_count": 7,
   "id": "ec41bbf1-1505-4869-8dcc-0eea06d181ef",
   "metadata": {},
   "outputs": [],
   "source": [
    "#####\n",
    "# - SETTING UP LIST OF PREDICTORS FOR EACH FEATURE\n",
    "#####\n",
    "\n",
    "bat_ba_preds = list(bat_cols[bat_sfs_ba.get_support()])\n",
    "bat_rbi_preds = list(bat_cols[bat_sfs_rbi.get_support()])\n",
    "bat_hr_preds = list(bat_cols[bat_sfs_hr.get_support()])\n",
    "bat_bb_preds = list(bat_cols[bat_sfs_bb.get_support()])\n",
    "bat_so_preds = list(bat_cols[bat_sfs_so.get_support()])\n",
    "\n",
    "pitch_era_preds = list(pitch_cols[pitch_sfs_era.get_support()])\n",
    "pitch_so_preds = list(pitch_cols[pitch_sfs_so.get_support()])\n",
    "pitch_whip_preds = list(pitch_cols[pitch_sfs_whip.get_support()])\n",
    "pitch_bb_preds = list(pitch_cols[pitch_sfs_bb.get_support()])\n",
    "pitch_w_preds = list(pitch_cols[pitch_sfs_w.get_support()])\n",
    "pitch_sv_preds = list(pitch_cols[pitch_sfs_sv.get_support()])"
   ]
  },
  {
   "cell_type": "code",
   "execution_count": null,
   "id": "9b0c4450-c344-4cdf-9fcf-75ee2ebcaff2",
   "metadata": {},
   "outputs": [],
   "source": [
    "bat_ba_preds"
   ]
  },
  {
   "cell_type": "code",
   "execution_count": null,
   "id": "2702b2ca-e6f7-4c40-82ef-67b9b5d9e426",
   "metadata": {},
   "outputs": [],
   "source": [
    "bat_rbi_preds"
   ]
  },
  {
   "cell_type": "code",
   "execution_count": null,
   "id": "a4c70dc0-dcf6-44b1-8175-5dd8834db065",
   "metadata": {},
   "outputs": [],
   "source": [
    "bat_hr_preds"
   ]
  },
  {
   "cell_type": "code",
   "execution_count": null,
   "id": "d4f714a2-39ae-47c6-ae78-53ad69cd140d",
   "metadata": {},
   "outputs": [],
   "source": [
    "bat_bb_preds"
   ]
  },
  {
   "cell_type": "code",
   "execution_count": null,
   "id": "c1dcdb8e-fdae-4ff3-a717-3f9cef18e57f",
   "metadata": {},
   "outputs": [],
   "source": [
    "bat_so_preds"
   ]
  },
  {
   "cell_type": "code",
   "execution_count": null,
   "id": "14bc0dfe-0692-447d-a33d-3d472489e6d3",
   "metadata": {},
   "outputs": [],
   "source": [
    "pitch_era_preds"
   ]
  },
  {
   "cell_type": "code",
   "execution_count": null,
   "id": "260caa17-6f65-42a3-b1aa-bd442459e724",
   "metadata": {},
   "outputs": [],
   "source": [
    "pitch_so_preds"
   ]
  },
  {
   "cell_type": "code",
   "execution_count": null,
   "id": "62bbd0ca-d3e3-4b03-9eb0-6348da9a7efb",
   "metadata": {},
   "outputs": [],
   "source": [
    "pitch_whip_preds"
   ]
  },
  {
   "cell_type": "code",
   "execution_count": null,
   "id": "fe3953ae-9e99-4416-97df-92713bcf8047",
   "metadata": {},
   "outputs": [],
   "source": [
    "pitch_bb_preds"
   ]
  },
  {
   "cell_type": "code",
   "execution_count": null,
   "id": "ec9f8901-9e30-4a5d-8355-c8edc83ccdc2",
   "metadata": {},
   "outputs": [],
   "source": [
    "pitch_w_preds"
   ]
  },
  {
   "cell_type": "code",
   "execution_count": null,
   "id": "9eea3000-25b3-4a48-843a-7a2ca6ba97a2",
   "metadata": {},
   "outputs": [],
   "source": [
    "pitch_sv_preds"
   ]
  },
  {
   "cell_type": "code",
   "execution_count": null,
   "id": "56153da8-6018-42ac-9eee-9c331447bbd9",
   "metadata": {},
   "outputs": [],
   "source": [
    "from sklearn.model_selection import GridSearchCV"
   ]
  },
  {
   "cell_type": "code",
   "execution_count": 8,
   "id": "dd5cd769-89c4-4b17-8bf9-c51ddfd8548e",
   "metadata": {},
   "outputs": [],
   "source": [
    "from sklearn.ensemble import RandomForestRegressor\n",
    "rfr = RandomForestRegressor(min_samples_split = .1,max_depth=2,n_estimators=10)\n"
   ]
  },
  {
   "cell_type": "code",
   "execution_count": 212,
   "id": "c00ece41-5417-407d-853f-516d45835b61",
   "metadata": {},
   "outputs": [],
   "source": [
    "from sklearn.tree import DecisionTreeRegressor\n",
    "dtr = DecisionTreeRegressor(splitter ='best',max_depth=2,min_samples_split=17)\n",
    "dtr2 = DecisionTreeRegressor(splitter ='best',max_depth=3,min_samples_split=17)\n",
    "dtr3 = DecisionTreeRegressor(splitter ='best',max_depth=4,min_samples_split=17)\n",
    "dtr4 = DecisionTreeRegressor(splitter ='best',max_depth=5,min_samples_split=17)\n",
    "dtr5 = DecisionTreeRegressor(splitter ='best',max_depth=6,min_samples_split=17)\n",
    "\n",
    "dtr1 = DecisionTreeRegressor(splitter ='best',max_depth=7,min_samples_split=17)\n",
    "dtr21 = DecisionTreeRegressor(splitter ='best',max_depth=8,min_samples_split=17)\n",
    "dtr31 = DecisionTreeRegressor(splitter ='best',max_depth=9,min_samples_split=17)\n",
    "dtr41 = DecisionTreeRegressor(splitter ='best',max_depth=10,min_samples_split=17)\n",
    "dtr51 = DecisionTreeRegressor(splitter ='best',max_depth=11,min_samples_split=17)"
   ]
  },
  {
   "cell_type": "code",
   "execution_count": 213,
   "id": "ea3db41f-9ed0-4030-9181-a11b0825ed55",
   "metadata": {},
   "outputs": [],
   "source": [
    "#####\n",
    "# - NOTES\n",
    "#####\n",
    "def bat_ba_model(data, model, predictors, start=2, step=1):\n",
    "    all_predictions = []\n",
    "    \n",
    "    years = sorted(data[\"Year\"].unique())\n",
    "    \n",
    "    for i in range(start, len(years), step):\n",
    "        current_year = years[i]\n",
    "        train = data[data[\"Year\"] < current_year]\n",
    "        test = data[data[\"Year\"] == current_year]\n",
    "        \n",
    "        #model.compile(optimizer = 'adam', loss = 'mean_squared_error')\n",
    "        \n",
    "        model.fit(train[predictors], train[\"Nxt_BA\"])\n",
    "        \n",
    "        preds = model.predict(test[predictors])\n",
    "        preds = pd.Series(preds, index=test.index)\n",
    "        combined = pd.concat([test[\"Nxt_BA\"], preds], axis=1)\n",
    "        combined.columns = [\"actual\", \"predicted\"]\n",
    "        \n",
    "        all_predictions.append(combined)\n",
    "    return pd.concat(all_predictions)"
   ]
  },
  {
   "cell_type": "code",
   "execution_count": 214,
   "id": "314c739e-33a4-4c3a-a7f5-5e12cd6d4682",
   "metadata": {},
   "outputs": [],
   "source": [
    "######\n",
    "###### - DELETE THIS, THIS WAS JUST A TEST\n",
    "######\n",
    "predicted = bat_ba_model(batting, dtr, bat_ba_preds)"
   ]
  },
  {
   "cell_type": "code",
   "execution_count": 215,
   "id": "d85519aa-7177-45cd-af49-d84977bb9b25",
   "metadata": {},
   "outputs": [],
   "source": [
    "predicted2 = bat_ba_model(batting, dtr2, bat_ba_preds)"
   ]
  },
  {
   "cell_type": "code",
   "execution_count": 216,
   "id": "e9608ef8-cbf3-4c24-b310-d78b2d6485ce",
   "metadata": {},
   "outputs": [],
   "source": [
    "predicted3 = bat_ba_model(batting, dtr3, bat_ba_preds)"
   ]
  },
  {
   "cell_type": "code",
   "execution_count": 217,
   "id": "c14952cf-21a7-4530-af8c-a9c45a5ae48f",
   "metadata": {},
   "outputs": [],
   "source": [
    "predicted4 = bat_ba_model(batting, dtr4, bat_ba_preds)"
   ]
  },
  {
   "cell_type": "code",
   "execution_count": 218,
   "id": "e2194ae3-76d3-47e2-a612-a4cb64d5f30e",
   "metadata": {},
   "outputs": [],
   "source": [
    "predicted5 = bat_ba_model(batting, dtr5, bat_ba_preds)"
   ]
  },
  {
   "cell_type": "code",
   "execution_count": 219,
   "id": "6c230a74-81e8-4d21-aedd-a400cda21d80",
   "metadata": {},
   "outputs": [],
   "source": [
    "predicted6 = bat_ba_model(batting, dtr1, bat_ba_preds)"
   ]
  },
  {
   "cell_type": "code",
   "execution_count": 220,
   "id": "8c34ca91-596a-4763-a565-4048190be3b5",
   "metadata": {},
   "outputs": [],
   "source": [
    "predicted7 = bat_ba_model(batting, dtr21, bat_ba_preds)"
   ]
  },
  {
   "cell_type": "code",
   "execution_count": 221,
   "id": "211c68eb-64f7-407c-a799-9ac5bf28a86f",
   "metadata": {},
   "outputs": [],
   "source": [
    "predicted8 = bat_ba_model(batting, dtr31, bat_ba_preds)"
   ]
  },
  {
   "cell_type": "code",
   "execution_count": 222,
   "id": "4cd510f8-452c-44a1-928d-43e63cd035b1",
   "metadata": {},
   "outputs": [],
   "source": [
    "predicted9 = bat_ba_model(batting, dtr41, bat_ba_preds)"
   ]
  },
  {
   "cell_type": "code",
   "execution_count": 223,
   "id": "1dc3464c-e08a-4afc-b760-bf2752872a2c",
   "metadata": {},
   "outputs": [],
   "source": [
    "predicted10 = bat_ba_model(batting, dtr51, bat_ba_preds)"
   ]
  },
  {
   "cell_type": "code",
   "execution_count": null,
   "id": "db6c5e2b-aa35-4ff3-acaa-1d5f76f0fbbb",
   "metadata": {},
   "outputs": [],
   "source": [
    "predicted"
   ]
  },
  {
   "cell_type": "code",
   "execution_count": 244,
   "id": "b03f7d0b-cf91-417d-b14f-e44c24776033",
   "metadata": {},
   "outputs": [
    {
     "name": "stdout",
     "output_type": "stream",
     "text": [
      "0.003942609352145505\n",
      "0.0038457318714228543\n",
      "0.003776459320653767\n",
      "0.0037901650480116167\n",
      "0.003922921943171494\n",
      "0.0039980896401250595\n",
      "0.004137371540490846\n",
      "0.0042455120107935925\n",
      "0.0043858999753736755\n",
      "0.004551584488089657\n"
     ]
    }
   ],
   "source": [
    "from sklearn.metrics import mean_squared_error as mse\n",
    "\n",
    "print(mse(predicted[\"actual\"], predicted[\"predicted\"]))\n",
    "print(mse(predicted2[\"actual\"], predicted2[\"predicted\"]))\n",
    "print(mse(predicted3[\"actual\"], predicted3[\"predicted\"]))\n",
    "print(mse(predicted4[\"actual\"], predicted4[\"predicted\"]))\n",
    "print(mse(predicted5[\"actual\"], predicted5[\"predicted\"]))\n",
    "print(mse(predicted6[\"actual\"], predicted6[\"predicted\"]))\n",
    "print(mse(predicted7[\"actual\"], predicted7[\"predicted\"]))\n",
    "print(mse(predicted8[\"actual\"], predicted8[\"predicted\"]))\n",
    "print(mse(predicted9[\"actual\"], predicted9[\"predicted\"]))\n",
    "print(mse(predicted10[\"actual\"], predicted10[\"predicted\"]))\n"
   ]
  },
  {
   "cell_type": "code",
   "execution_count": null,
   "id": "c7286456-a0da-4247-afc3-698a2d5afb00",
   "metadata": {},
   "outputs": [],
   "source": []
  },
  {
   "cell_type": "code",
   "execution_count": null,
   "id": "dff7eb53-8ae9-4422-94cd-6f14ee48ad35",
   "metadata": {},
   "outputs": [],
   "source": []
  },
  {
   "cell_type": "code",
   "execution_count": null,
   "id": "d2f9b71d-5c86-4706-8d61-1099bfd05cad",
   "metadata": {},
   "outputs": [],
   "source": [
    "from matplotlib import pyplot as plt\n",
    "\n",
    "## The line / model\n",
    "plt.scatter(test, predictions)\n",
    "#plt.xlabel(“True Values”)\n",
    "#plt.ylabel(“Predictions”)\n",
    "plt.show()"
   ]
  },
  {
   "cell_type": "code",
   "execution_count": null,
   "id": "7d62c3a6-4017-4d67-84f1-5452a99c36f6",
   "metadata": {},
   "outputs": [],
   "source": []
  },
  {
   "cell_type": "code",
   "execution_count": null,
   "id": "7ce645ca-1b9c-465c-b3b1-c9371107455d",
   "metadata": {},
   "outputs": [],
   "source": []
  },
  {
   "cell_type": "code",
   "execution_count": null,
   "id": "6b04642b-cc1d-4c0c-bfb7-af5995818465",
   "metadata": {},
   "outputs": [],
   "source": []
  },
  {
   "cell_type": "code",
   "execution_count": null,
   "id": "0b6790ee-5c98-48b3-aa53-3fdd72af5adb",
   "metadata": {},
   "outputs": [],
   "source": [
    "#####\n",
    "# - IMPORTS\n",
    "#####\n",
    "from keras.models import Sequential\n",
    "from keras.layers import Dense\n",
    "from keras.layers import LSTM\n",
    "from keras.layers import Dropout"
   ]
  },
  {
   "cell_type": "code",
   "execution_count": null,
   "id": "fdf32c77-edbf-4c0e-b97b-aa6037b023b9",
   "metadata": {},
   "outputs": [],
   "source": [
    "#####\n",
    "# - NOTES\n",
    "#####\n",
    "import numpy as np\n",
    "\n",
    "def bat_ba_mrnn (data, model, predictors, start=2, step=1):\n",
    "    bat_preds = []\n",
    "    \n",
    "    seasons = sorted(data[\"Year\"].unique())\n",
    "    \n",
    "    for i in range(start, len(seasons), step):\n",
    "        current_season = seasons[i]\n",
    "        train = data[data['Year'] < current_season]\n",
    "        test = data[data['Year'] == current_season]\n",
    "        \n",
    "        ##- THIS PART IS NEW AND PRODUCING THE NEW ERROR\n",
    "        #train = np.asarray(train)\n",
    "        \n",
    "        #remove_bat_cols = ['Name', 'Tm', 'Year', 'Nxt_BA', 'Nxt_RBI', 'Nxt_HR', 'Nxt_BB', 'Nxt_SO']\n",
    "        #train = batting.columns[~batting.columns.isin(remove_bat_cols)]\n",
    "        \n",
    "        model = Sequential()\n",
    "        \n",
    "        #train = train.values.reshape(-1, 33, 20)\n",
    "\n",
    "        zeros = np.zeros((2,20))\n",
    "        zeros[:train.shape[0],:train.shape[1]] = train\n",
    "        \n",
    "        model.add(LSTM(units = 175, return_sequences = True, input_shape = (33,20)))\n",
    "        model.add(Dropout(0.25))\n",
    "        model.add(LSTM(units = 142, return_sequences = True, dropout=0.2,recurrent_dropout=0.15))\n",
    "        model.add(LSTM(units = 125, return_sequences = True, dropout=0.2,recurrent_dropout=0.15))\n",
    "        model.add(LSTM(units = 100, return_sequences = True, dropout=0.2,recurrent_dropout=0.15))\n",
    "        model.add(LSTM(units = 75, return_sequences= True, dropout=0.2, recurrent_dropout=0.15))\n",
    "        model.add(LSTM(units = 75, return_sequences= True, dropout=0.2, recurrent_dropout=0.15))\n",
    "        model.add(LSTM(units = 50, return_sequences= True, dropout=0.2, recurrent_dropout=0.15))\n",
    "        model.add(LSTM(units = 50, return_sequences= True, dropout=0.2, recurrent_dropout=0.15))\n",
    "        model.add(LSTM(units = 50, return_sequences= False))\n",
    "        model.add(Dense(units = 1))  \n",
    "\n",
    "        \n",
    "        model.compile(optimizer = 'adam', loss = 'mean_squared_error')\n",
    "        model.fit(train[predictors], train['Nxt_BA'])\n",
    "        #model.fit(test,train, epochs = 100, batch_size=2)\n",
    "        #model.fit(np.array(train[predictors]), np.array(train['Nxt_BA']), verbose=0, epochs=100)\n",
    "    \n",
    "        preds = model.predict(test[predictors]) \n",
    "        \n",
    "        #preds = pd.Series(preds.ravel(), index=test.index)\n",
    "        preds = pd.Series(preds, index=test.index)\n",
    "        \n",
    "        together = pd.concat([test['Nxt_BA'], preds], axis=1)\n",
    "        together.columns = ['actual', 'prediction']\n",
    "        \n",
    "        bat_preds.append(together)\n",
    "    return pd.concat(bat_preds)\n",
    "                  "
   ]
  },
  {
   "cell_type": "code",
   "execution_count": null,
   "id": "541bec15-9391-4644-8713-b3e8a69a03f6",
   "metadata": {},
   "outputs": [],
   "source": [
    "bat_ba_predictions = bat_ba_mrnn(batting, LSTM, bat_ba_preds)"
   ]
  },
  {
   "cell_type": "code",
   "execution_count": null,
   "id": "1355292a-00fe-49f8-b546-a99613c68bf2",
   "metadata": {},
   "outputs": [],
   "source": []
  },
  {
   "cell_type": "code",
   "execution_count": null,
   "id": "75b4af36-21fd-40e7-b278-104b388feba6",
   "metadata": {},
   "outputs": [],
   "source": []
  },
  {
   "cell_type": "code",
   "execution_count": null,
   "id": "7d4c8129-815f-465f-b3d3-47a80d1c9813",
   "metadata": {},
   "outputs": [],
   "source": []
  },
  {
   "cell_type": "code",
   "execution_count": null,
   "id": "7ddbd455-6796-4ad9-9570-019bcbefd974",
   "metadata": {},
   "outputs": [],
   "source": [
    "batting.head(5)"
   ]
  },
  {
   "cell_type": "code",
   "execution_count": null,
   "id": "cf7478ca-00c5-4000-92f9-300ede8b134d",
   "metadata": {},
   "outputs": [],
   "source": []
  },
  {
   "cell_type": "code",
   "execution_count": null,
   "id": "e80e28e9-80e6-42a8-98f8-7c729f9c6453",
   "metadata": {},
   "outputs": [],
   "source": []
  },
  {
   "cell_type": "code",
   "execution_count": null,
   "id": "0b3fe5f8-e879-4630-886a-8a775a394922",
   "metadata": {},
   "outputs": [],
   "source": []
  },
  {
   "cell_type": "code",
   "execution_count": null,
   "id": "053c14c6-2866-4344-bb49-1576003f5e6c",
   "metadata": {},
   "outputs": [],
   "source": [
    "        #train = train.values.reshape(train.values,(-1,33,20))\n",
    "        train = train.reshape((-1,33,20))\n",
    "\n",
    "        \n",
    "        model.add(LSTM(units = 175, return_sequences = True, input_shape = (train)))\n",
    "        model.add(Dropout(0.25))\n",
    "        model.add(LSTM(units = 142, return_sequences = True, dropout=0.2, recurrent_dropout=0.15))\n",
    "        model.add(LSTM(units = 125, return_sequences = True, dropout=0.2, recurrent_dropout=0.15))\n",
    "        model.add(LSTM(units = 100, return_sequences = True, dropout=0.2, recurrent_dropout=0.15))\n",
    "        model.add(LSTM(units = 75, return_sequences= True, dropout=0.2, recurrent_dropout=0.15))\n",
    "        model.add(LSTM(units = 75, return_sequences= True, dropout=0.2, recurrent_dropout=0.15))\n",
    "        model.add(LSTM(units = 50, return_sequences= True, dropout=0.2, recurrent_dropout=0.15))\n",
    "        model.add(LSTM(units = 50, return_sequences= True, dropout=0.2, recurrent_dropout=0.15))\n",
    "        model.add(LSTM(units = 50, return_sequences= False))\n",
    "        model.add(Dense(units = 5))"
   ]
  },
  {
   "cell_type": "code",
   "execution_count": null,
   "id": "f81b1c96-d044-4ae1-ae28-418e6415fa43",
   "metadata": {},
   "outputs": [],
   "source": []
  },
  {
   "cell_type": "code",
   "execution_count": null,
   "id": "64a7cd7d-0523-4cec-b15d-95d09034aacc",
   "metadata": {},
   "outputs": [],
   "source": [
    "model = Sequential()\n",
    "model.add(LSTM(units = 175, return_sequences = True, input_shape = (33, 20)))\n",
    "model.add(Dropout(0.25))\n",
    "model.add(LSTM(units = 142, return_sequences = True, dropout=0.2, recurrent_dropout=0.15))\n",
    "model.add(LSTM(units = 125, return_sequences = True, dropout=0.2, recurrent_dropout=0.15))\n",
    "model.add(LSTM(units = 100, return_sequences = True, dropout=0.2, recurrent_dropout=0.15))\n",
    "model.add(LSTM(units = 75, return_sequences= True, dropout=0.2, recurrent_dropout=0.15))\n",
    "model.add(LSTM(units = 50, return_sequences= True, dropout=0.2, recurrent_dropout=0.15))\n",
    "model.add(LSTM(units = 50, return_sequences= True, dropout=0.2, recurrent_dropout=0.15))\n",
    "model.add(LSTM(units = 50, return_sequences= False))\n",
    "model.add(Dense(units = 1)) "
   ]
  },
  {
   "cell_type": "code",
   "execution_count": null,
   "id": "a2f738b4-84bb-4d9a-b856-6ad3c83ffb8b",
   "metadata": {},
   "outputs": [],
   "source": [
    "[print(i.shape, i.dtype) for i in model.inputs]\n",
    "[print(o.shape, o.dtype) for o in model.outputs]\n",
    "[print(l.name, l.input_shape, l.dtype) for l in model.layers]"
   ]
  },
  {
   "cell_type": "code",
   "execution_count": null,
   "id": "75b405c8-5051-450f-aa4c-8959b294c260",
   "metadata": {},
   "outputs": [],
   "source": []
  },
  {
   "cell_type": "code",
   "execution_count": null,
   "id": "ebd31ab0-ffa2-40ca-8db0-d774219991d6",
   "metadata": {},
   "outputs": [],
   "source": []
  },
  {
   "cell_type": "code",
   "execution_count": null,
   "id": "e2ff302a-6c75-4579-92d5-8f30efb73232",
   "metadata": {},
   "outputs": [],
   "source": [
    "#####\n",
    "##### - TESTING THINGS OUT - WILL DELETE LATER\n",
    "#####\n",
    "\n",
    "        model.add(LSTM(units = 175, return_sequences = True, input_shape = (train)))\n",
    "\n",
    "        ### - OR - ###\n",
    "\n",
    "        model.add(LSTM(units = 175, return_sequences = True, input_shape = (train.shape[1], 20)))\n",
    "        model.add(Dropout(0.25))\n",
    "        model.add(LSTM(units = 142, return_sequences = True, dropout=0.2, recurrent_dropout=0.15))\n",
    "        model.add(LSTM(units = 125, return_sequences = True, dropout=0.2, recurrent_dropout=0.15))\n",
    "        model.add(LSTM(units = 100, return_sequences = True, dropout=0.2, recurrent_dropout=0.15))\n",
    "        model.add(LSTM(units = 75, return_sequences= True, dropout=0.2, recurrent_dropout=0.15))\n",
    "        model.add(LSTM(units = 75, return_sequences= True, dropout=0.2, recurrent_dropout=0.15))\n",
    "        model.add(LSTM(units = 50, return_sequences= True, dropout=0.2, recurrent_dropout=0.15))\n",
    "        model.add(LSTM(units = 50, return_sequences= True, dropout=0.2, recurrent_dropout=0.15))\n",
    "        model.add(LSTM(units = 50, return_sequences= False))\n",
    "        model.add(Dense(units = 1))  "
   ]
  },
  {
   "cell_type": "code",
   "execution_count": null,
   "id": "d3ea4c5c-fb7f-4510-8f89-0d0169b724fe",
   "metadata": {},
   "outputs": [],
   "source": [
    "#####\n",
    "##### - TESTING THINGS OUT - WILL DELETE LATER\n",
    "##### \n",
    "    \n",
    "        model.add(LSTM(units = 175, return_sequences = True, input_shape = (None, 20)))\n",
    "        model.add(Dropout(0.25))\n",
    "        model.add(LSTM(units = 50, return_sequences= True, dropout=0.2, recurrent_dropout=0.15))\n",
    "        model.add(LSTM(units = 50, return_sequences= True, dropout=0.2, recurrent_dropout=0.15))\n",
    "        model.add(LSTM(units = 50, return_sequences= True, dropout=0.2, recurrent_dropout=0.15))\n",
    "        model.add(LSTM(units = 50, return_sequences= True, dropout=0.2, recurrent_dropout=0.15))\n",
    "        model.add(LSTM(units = 50, return_sequences= True, dropout=0.2, recurrent_dropout=0.15))\n",
    "        model.add(LSTM(units = 50, return_sequences= True, dropout=0.2, recurrent_dropout=0.15))\n",
    "        model.add(LSTM(units = 50, return_sequences= False))\n",
    "        model.add(Dense(units = 1)) "
   ]
  },
  {
   "cell_type": "code",
   "execution_count": null,
   "id": "11ef5ecc-b37c-4c64-88c8-46b9ef693ca0",
   "metadata": {},
   "outputs": [],
   "source": []
  },
  {
   "cell_type": "code",
   "execution_count": null,
   "id": "b44808ca-3326-44f7-80f9-3c0606b362e3",
   "metadata": {},
   "outputs": [],
   "source": []
  },
  {
   "cell_type": "code",
   "execution_count": null,
   "id": "6251863b-285f-414b-9adc-7258f521d71c",
   "metadata": {},
   "outputs": [],
   "source": [
    "        #X = bat_ba_preds\n",
    "        #y = batting['BA'] \n",
    "        #X_test = test[bat_ba_preds]\n",
    "                \n",
    "        #preds = model.predict(X_test)\n",
    "        #model.fit(X,y, epochs = 100, batch_size=2)\n",
    "    "
   ]
  },
  {
   "cell_type": "code",
   "execution_count": null,
   "id": "b93e0c3f-c387-416d-996c-f8ef58c12b92",
   "metadata": {},
   "outputs": [],
   "source": [
    "bat_ba_predictions = bat_ba_mrnn(batting, LSTM, bat_ba_preds)"
   ]
  },
  {
   "cell_type": "code",
   "execution_count": null,
   "id": "a0da3f63-8b76-440f-9a33-9484818f775e",
   "metadata": {},
   "outputs": [],
   "source": []
  },
  {
   "cell_type": "code",
   "execution_count": null,
   "id": "76b4d454-a1d4-4316-bd16-066acfeb5b6d",
   "metadata": {},
   "outputs": [],
   "source": []
  },
  {
   "cell_type": "code",
   "execution_count": null,
   "id": "777750eb-822d-48ae-889b-734792c71648",
   "metadata": {},
   "outputs": [],
   "source": []
  },
  {
   "cell_type": "code",
   "execution_count": null,
   "id": "b29d669f-8964-42c2-b5e9-5b374478cdfd",
   "metadata": {},
   "outputs": [],
   "source": [
    "#X = batting['Age','G','PA','AB','R','H','2B','3B','HR','RBI','CS','BB','SO','OBP','OPS','TB','GDP','SH','SF','IBB']\n",
    "X = bat_ba_preds\n",
    "y = batting['BA'] "
   ]
  },
  {
   "cell_type": "code",
   "execution_count": null,
   "id": "180c1ed0-9048-44f7-9249-b28e29a87d95",
   "metadata": {},
   "outputs": [],
   "source": [
    "x_array = np.asarray(x_list)"
   ]
  },
  {
   "cell_type": "code",
   "execution_count": null,
   "id": "8c3fab18-f200-4632-be2d-2346702e25a7",
   "metadata": {},
   "outputs": [],
   "source": []
  },
  {
   "cell_type": "code",
   "execution_count": null,
   "id": "e438be7a-8229-4095-a5d7-a18b933932eb",
   "metadata": {},
   "outputs": [],
   "source": []
  },
  {
   "cell_type": "code",
   "execution_count": null,
   "id": "2ab1d5cc-ed68-47a6-9a1b-2f9d9f18548a",
   "metadata": {},
   "outputs": [],
   "source": [
    "# DATACAMP - WOULD LIKE TO CHANGE LOSS TO MSE, LIKELY TO KEEP METRICS UNLESS FEEL DIFFERENTLY AFTER GOING FURTHER\n",
    "#            IN THE LESSONS ON DATACAMP\n",
    "model.compile(loss='binary_crossentropy', \n",
    "              optimizer='adam',\n",
    "              metrics=['accuracy'])"
   ]
  },
  {
   "cell_type": "code",
   "execution_count": null,
   "id": "35e69e6f-ae62-49a7-a5e9-937b1614f558",
   "metadata": {},
   "outputs": [],
   "source": [
    "# The summary shows the layers and the number of parameters \n",
    "# that will be trained\n",
    "model.summary()"
   ]
  },
  {
   "cell_type": "code",
   "execution_count": null,
   "id": "9c1c2a7a-aa80-4585-bb7d-4d4ba499a484",
   "metadata": {},
   "outputs": [],
   "source": []
  },
  {
   "cell_type": "code",
   "execution_count": null,
   "id": "233300ef-68e0-40a3-8e6d-6616bf460676",
   "metadata": {},
   "outputs": [],
   "source": []
  },
  {
   "cell_type": "code",
   "execution_count": null,
   "id": "eb9af95f-f3a1-412c-ab57-ba300783e277",
   "metadata": {},
   "outputs": [],
   "source": []
  },
  {
   "cell_type": "code",
   "execution_count": null,
   "id": "2bb52da3-c0bd-4a1c-8a6d-d70d7e478d18",
   "metadata": {},
   "outputs": [],
   "source": [
    "#####\n",
    "# - NOTES\n",
    "#####"
   ]
  },
  {
   "cell_type": "code",
   "execution_count": null,
   "id": "5044efcb-b5a5-46ad-9066-bdf1b353ea2f",
   "metadata": {},
   "outputs": [],
   "source": [
    "#####\n",
    "# - NOTES\n",
    "#####"
   ]
  },
  {
   "cell_type": "code",
   "execution_count": null,
   "id": "6adc93a5-5f53-4459-9324-bff2b0eb38ce",
   "metadata": {},
   "outputs": [],
   "source": []
  }
 ],
 "metadata": {
  "kernelspec": {
   "display_name": "Python 3 (ipykernel)",
   "language": "python",
   "name": "python3"
  },
  "language_info": {
   "codemirror_mode": {
    "name": "ipython",
    "version": 3
   },
   "file_extension": ".py",
   "mimetype": "text/x-python",
   "name": "python",
   "nbconvert_exporter": "python",
   "pygments_lexer": "ipython3",
   "version": "3.9.12"
  }
 },
 "nbformat": 4,
 "nbformat_minor": 5
}
